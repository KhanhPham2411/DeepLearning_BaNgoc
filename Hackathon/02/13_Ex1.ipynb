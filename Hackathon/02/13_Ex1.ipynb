{
  "nbformat": 4,
  "nbformat_minor": 0,
  "metadata": {
    "colab": {
      "name": "13-Ex1.ipynb",
      "provenance": [],
      "toc_visible": true
    },
    "kernelspec": {
      "name": "python3",
      "display_name": "Python 3"
    },
    "accelerator": "GPU"
  },
  "cells": [
    {
      "cell_type": "markdown",
      "metadata": {
        "id": "ED0bpKA5rITi",
        "colab_type": "text"
      },
      "source": [
        "#### Mục tiêu: Xây dựng mô hình có độ chính xác trên tập validation khoảng 84%"
      ]
    },
    {
      "cell_type": "code",
      "metadata": {
        "id": "Ac8aY72mm-LF",
        "colab_type": "code",
        "colab": {}
      },
      "source": [
        "import json\n",
        "import tensorflow as tf\n",
        "\n",
        "from tensorflow.keras.preprocessing.text import Tokenizer\n",
        "from tensorflow.keras.preprocessing.sequence import pad_sequences"
      ],
      "execution_count": 1,
      "outputs": []
    },
    {
      "cell_type": "code",
      "metadata": {
        "id": "VaZQvC2RoudH",
        "colab_type": "code",
        "colab": {}
      },
      "source": [
        "from tensorflow.keras.models import Sequential\n",
        "from tensorflow.keras.layers import Dense, Embedding, GlobalAveragePooling1D"
      ],
      "execution_count": 20,
      "outputs": []
    },
    {
      "cell_type": "code",
      "metadata": {
        "id": "GQ3LmxlVnGGr",
        "colab_type": "code",
        "colab": {}
      },
      "source": [
        "vocab_size = 10000\n",
        "embedding_dim = 16\n",
        "max_length = 100\n",
        "trunc_type='post'\n",
        "padding_type='post'\n",
        "oov_tok = \"<OOV>\"\n",
        "training_size = 20000\n"
      ],
      "execution_count": 3,
      "outputs": []
    },
    {
      "cell_type": "code",
      "metadata": {
        "id": "M3o5hNpNnLSC",
        "colab_type": "code",
        "colab": {
          "base_uri": "https://localhost:8080/",
          "height": 204
        },
        "outputId": "77088cbc-e83b-4d3d-a6fb-1d133d6ef88f"
      },
      "source": [
        "!wget --no-check-certificate \\\n",
        "    https://storage.googleapis.com/laurencemoroney-blog.appspot.com/sarcasm.json \\\n",
        "    -O /tmp/sarcasm.json\n"
      ],
      "execution_count": 5,
      "outputs": [
        {
          "output_type": "stream",
          "text": [
            "--2020-07-10 12:53:37--  https://storage.googleapis.com/laurencemoroney-blog.appspot.com/sarcasm.json\n",
            "Resolving storage.googleapis.com (storage.googleapis.com)... 64.233.189.128, 108.177.97.128, 108.177.125.128, ...\n",
            "Connecting to storage.googleapis.com (storage.googleapis.com)|64.233.189.128|:443... connected.\n",
            "HTTP request sent, awaiting response... 200 OK\n",
            "Length: 5643545 (5.4M) [application/json]\n",
            "Saving to: ‘/tmp/sarcasm.json’\n",
            "\n",
            "\r/tmp/sarcasm.json     0%[                    ]       0  --.-KB/s               \r/tmp/sarcasm.json   100%[===================>]   5.38M  --.-KB/s    in 0.04s   \n",
            "\n",
            "2020-07-10 12:53:37 (122 MB/s) - ‘/tmp/sarcasm.json’ saved [5643545/5643545]\n",
            "\n"
          ],
          "name": "stdout"
        }
      ]
    },
    {
      "cell_type": "code",
      "metadata": {
        "id": "5iJW8S0knOwf",
        "colab_type": "code",
        "colab": {}
      },
      "source": [
        "with open(\"/tmp/sarcasm.json\", 'r') as f:\n",
        "    datastore = json.load(f)\n",
        "\n",
        "sentences = []\n",
        "labels = []\n",
        "\n",
        "for item in datastore:\n",
        "    sentences.append(item['headline'])\n",
        "    labels.append(item['is_sarcastic'])\n",
        "\n",
        "\n",
        "import numpy as np\n",
        "labels = np.array(labels)"
      ],
      "execution_count": 6,
      "outputs": []
    },
    {
      "cell_type": "code",
      "metadata": {
        "id": "ADdgfi2BnQDb",
        "colab_type": "code",
        "colab": {}
      },
      "source": [
        "# Chia features tập train\n",
        "training_sentences = sentences[0:training_size]\n",
        "# FIXME: Chia features tập test\n",
        "testing_sentences = sentences[training_size:]\n",
        "# FIXME: Chia labels tập train\n",
        "# FIXME: Chia labels tập test\n",
        "training_labels = labels[0:training_size]\n",
        "testing_labels = labels[training_size:]\n"
      ],
      "execution_count": 9,
      "outputs": []
    },
    {
      "cell_type": "code",
      "metadata": {
        "id": "QtcLlA3rnij6",
        "colab_type": "code",
        "colab": {}
      },
      "source": [
        "# FIXME: Tạo tokenizer\n",
        "tokenizer = Tokenizer(num_words=vocab_size, oov_token=oov_tok)\n",
        "\n",
        "# FIXME: Đưa từ vào tokenizer để tạo từ điển\n",
        "\n",
        "tokenizer.fit_on_texts(training_sentences)\n",
        "\n",
        "# FIXME: Biến các câu train thành sequences\n",
        "\n",
        "training_sequences = tokenizer.texts_to_sequences(training_sentences)\n",
        "\n",
        "# FIXME: Padding cho các train sequences\n",
        "\n",
        "training_padded = pad_sequences(training_sequences, maxlen=max_length, padding=padding_type, truncating=trunc_type)\n",
        "\n",
        "# FIXME: Biến các câu test thành sequences và padding tương ứng\n",
        "\n",
        "test_sequences = tokenizer.texts_to_sequences(testing_sentences)\n",
        "\n",
        "test_padded = pad_sequences(test_sequences, maxlen=max_length, padding=padding_type, truncating=trunc_type)"
      ],
      "execution_count": 12,
      "outputs": []
    },
    {
      "cell_type": "code",
      "metadata": {
        "id": "TUSDCqYQooDh",
        "colab_type": "code",
        "colab": {}
      },
      "source": [
        "# Xây dựng model\n",
        "\n",
        "# FIXME: Tạo model Sequential\n",
        "\n",
        "model = Sequential()\n",
        "\n",
        "# FIXME: Thêm một lớp Embedding\n",
        "\n",
        "model.add(Embedding(vocab_size, embedding_dim, input_length=max_length))\n",
        "model.add(GlobalAveragePooling1D())\n",
        "# FIXME: Thêm một lớp Dense, chú ý có activation\n",
        "\n",
        "model.add(Dense(24, activation='relu'))\n",
        "\n",
        "# FIXME: Thêm một lớp Dense cuối, chú ý có activation\n",
        "\n",
        "model.add(Dense(1, activation='sigmoid'))\n"
      ],
      "execution_count": 21,
      "outputs": []
    },
    {
      "cell_type": "code",
      "metadata": {
        "id": "E59eZek1pdAQ",
        "colab_type": "code",
        "colab": {}
      },
      "source": [
        "# FIXME: Compile Optimizer và Loss function\n",
        "\n",
        "model.compile(loss='binary_crossentropy',optimizer='adam',metrics=['accuracy'])"
      ],
      "execution_count": 22,
      "outputs": []
    },
    {
      "cell_type": "code",
      "metadata": {
        "id": "pOcPg5DRprqH",
        "colab_type": "code",
        "colab": {
          "base_uri": "https://localhost:8080/",
          "height": 374
        },
        "outputId": "0c3ef0b5-b579-4dfb-b967-be7f7fcb1283"
      },
      "source": [
        "# FIXME: Tiến hành training\n",
        "\n",
        "model.fit(training_padded, training_labels, epochs=10, validation_data=(test_padded, testing_labels))"
      ],
      "execution_count": 24,
      "outputs": [
        {
          "output_type": "stream",
          "text": [
            "Epoch 1/10\n",
            "625/625 [==============================] - 4s 6ms/step - loss: 0.1937 - accuracy: 0.9264 - val_loss: 0.3570 - val_accuracy: 0.8535\n",
            "Epoch 2/10\n",
            "625/625 [==============================] - 4s 7ms/step - loss: 0.1696 - accuracy: 0.9368 - val_loss: 0.3699 - val_accuracy: 0.8527\n",
            "Epoch 3/10\n",
            "625/625 [==============================] - 4s 6ms/step - loss: 0.1518 - accuracy: 0.9454 - val_loss: 0.3852 - val_accuracy: 0.8526\n",
            "Epoch 4/10\n",
            "625/625 [==============================] - 4s 6ms/step - loss: 0.1364 - accuracy: 0.9507 - val_loss: 0.4082 - val_accuracy: 0.8501\n",
            "Epoch 5/10\n",
            "625/625 [==============================] - 4s 6ms/step - loss: 0.1246 - accuracy: 0.9553 - val_loss: 0.4261 - val_accuracy: 0.8478\n",
            "Epoch 6/10\n",
            "625/625 [==============================] - 4s 6ms/step - loss: 0.1126 - accuracy: 0.9606 - val_loss: 0.4494 - val_accuracy: 0.8481\n",
            "Epoch 7/10\n",
            "625/625 [==============================] - 4s 6ms/step - loss: 0.1012 - accuracy: 0.9646 - val_loss: 0.4794 - val_accuracy: 0.8414\n",
            "Epoch 8/10\n",
            "625/625 [==============================] - 4s 6ms/step - loss: 0.0927 - accuracy: 0.9689 - val_loss: 0.5029 - val_accuracy: 0.8420\n",
            "Epoch 9/10\n",
            "625/625 [==============================] - 4s 6ms/step - loss: 0.0848 - accuracy: 0.9714 - val_loss: 0.5328 - val_accuracy: 0.8405\n",
            "Epoch 10/10\n",
            "625/625 [==============================] - 4s 6ms/step - loss: 0.0770 - accuracy: 0.9747 - val_loss: 0.5863 - val_accuracy: 0.8289\n"
          ],
          "name": "stdout"
        },
        {
          "output_type": "execute_result",
          "data": {
            "text/plain": [
              "<tensorflow.python.keras.callbacks.History at 0x7fb3103aa588>"
            ]
          },
          "metadata": {
            "tags": []
          },
          "execution_count": 24
        }
      ]
    },
    {
      "cell_type": "code",
      "metadata": {
        "id": "he-aXqEDpzrX",
        "colab_type": "code",
        "colab": {}
      },
      "source": [
        "# FIXME: Tiến hành dự đoán"
      ],
      "execution_count": null,
      "outputs": []
    },
    {
      "cell_type": "code",
      "metadata": {
        "id": "P_0xcZq1p1xf",
        "colab_type": "code",
        "colab": {
          "base_uri": "https://localhost:8080/",
          "height": 34
        },
        "outputId": "b4c58516-6ca9-40c3-9e34-f47bc9a2d538"
      },
      "source": [
        "test_sen = [\"Everyone seems normal until you get to know them.\"]\n",
        "\n",
        "# FIXME: Chuyển câu thành Sequences\n",
        "test_seq = tokenizer.texts_to_sequences(test_sen)\n",
        "# FIXME: padding cho câu này\n",
        "pad_test_seq = pad_sequences(test_seq, maxlen=max_length, padding=padding_type, truncating=trunc_type)\n",
        "# FIXME: Tiến hành dự đoán\n",
        "\n",
        "model.predict(pad_test_seq)"
      ],
      "execution_count": 25,
      "outputs": [
        {
          "output_type": "execute_result",
          "data": {
            "text/plain": [
              "array([[0.9971929]], dtype=float32)"
            ]
          },
          "metadata": {
            "tags": []
          },
          "execution_count": 25
        }
      ]
    }
  ]
}