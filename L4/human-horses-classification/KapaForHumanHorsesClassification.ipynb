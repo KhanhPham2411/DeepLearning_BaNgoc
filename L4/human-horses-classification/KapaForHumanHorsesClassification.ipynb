{
    "cells": [
        {
            "cell_type": "markdown",
            "source": "#### 1. Import necessary library",
            "metadata": {
                "cell_id": "652e75d2-a98f-4b3c-b51d-4295d61b81f5"
            }
        },
        {
            "cell_type": "code",
            "metadata": {
                "tags": [],
                "cell_id": "1d75a774-db32-4221-aca0-90b724ffba79",
                "output_cleared": true
            },
            "source": "conda install tensorflow",
            "execution_count": 1
        },
        {
            "cell_type": "code",
            "metadata": {
                "output_cleared": true,
                "cell_id": "c69f5561-68fe-49c2-8b0d-9eca95b124ab"
            },
            "source": "#!pip3 install tensorflow-gpu==2.0.0-rc0 \r\n!pip install tensorflow\r\n!pip install keras\r\n!pip install pillow",
            "execution_count": 3
        },
        {
            "cell_type": "code",
            "metadata": {
                "cell_id": "62ad2384-01e5-428c-b726-728a2dccadd1"
            },
            "source": "from tensorflow.keras.models import Model\nfrom tensorflow.keras.models import Sequential\nfrom tensorflow.keras.layers import BatchNormalization\nfrom tensorflow.keras.layers import AveragePooling2D\nfrom tensorflow.keras.layers import MaxPooling2D\nfrom tensorflow.keras.layers import Conv2D\nfrom tensorflow.keras.layers import Activation\nfrom tensorflow.keras.layers import Dropout\nfrom tensorflow.keras.layers import Flatten\nfrom tensorflow.keras.layers import Input\nfrom tensorflow.keras.layers import Dense\nfrom tensorflow.keras.layers import concatenate\nfrom tensorflow.keras.optimizers import RMSprop",
            "execution_count": 4,
            "outputs": []
        },
        {
            "cell_type": "code",
            "metadata": {
                "cell_id": "60d5b7f2-1586-418a-9baa-26cb3753b87a"
            },
            "source": "from tensorflow.keras.preprocessing.image import ImageDataGenerator\nfrom tensorflow.keras.optimizers import SGD\nimport matplotlib.pyplot as plt\nfrom sklearn.utils import shuffle\nimport pickle\nimport os",
            "execution_count": 5,
            "outputs": []
        },
        {
            "cell_type": "code",
            "metadata": {
                "cell_id": "65da3dda-e6b5-4bd2-a465-dc2ef8405862"
            },
            "source": "from sklearn.preprocessing import LabelBinarizer",
            "execution_count": 7,
            "outputs": []
        },
        {
            "cell_type": "code",
            "metadata": {
                "cell_id": "ffbe8f69-4082-4a88-8d49-d7f0682bce87"
            },
            "source": "import wget",
            "execution_count": 8,
            "outputs": [
                {
                    "output_type": "error",
                    "ename": "ModuleNotFoundError",
                    "evalue": "No module named 'wget'",
                    "traceback": [
                        "\u001b[0;31m---------------------------------------------------------------------------\u001b[0m",
                        "\u001b[0;31mModuleNotFoundError\u001b[0m                       Traceback (most recent call last)",
                        "\u001b[0;32m<ipython-input-8-381d77ba2736>\u001b[0m in \u001b[0;36m<module>\u001b[0;34m\u001b[0m\n\u001b[0;32m----> 1\u001b[0;31m \u001b[0;32mimport\u001b[0m \u001b[0mwget\u001b[0m\u001b[0;34m\u001b[0m\u001b[0;34m\u001b[0m\u001b[0m\n\u001b[0m",
                        "\u001b[0;31mModuleNotFoundError\u001b[0m: No module named 'wget'"
                    ]
                }
            ]
        },
        {
            "cell_type": "markdown",
            "source": "#### 2. Download data",
            "metadata": {
                "cell_id": "97363fa1-3dfb-4683-8e35-af8717687e7d"
            }
        },
        {
            "cell_type": "code",
            "metadata": {
                "cell_id": "9af42ae7-38c3-4475-84f8-f2d445af049f"
            },
            "source": "# http://www.laurencemoroney.com/horses-or-humans-dataset/\ntraining = \"https://storage.googleapis.com/laurencemoroney-blog.appspot.com/horse-or-human.zip\"\nvalidation = \"https://storage.googleapis.com/laurencemoroney-blog.appspot.com/validation-horse-or-human.zip\"\n\ndef bar_custom(current, total, width=80):\n    print(\"Downloading: %d%% [%d / %d] bytes\" % (current / total * 100, current, total))",
            "outputs": []
        },
        {
            "cell_type": "code",
            "metadata": {
                "scrolled": true,
                "output_cleared": true,
                "cell_id": "6676eff0-7095-47b3-a21e-e90bb65d542b"
            },
            "source": "wget.download(training, bar=bar_custom)\r\nwget.download(validation, bar=bar_custom)"
        },
        {
            "cell_type": "markdown",
            "source": "Create folder data",
            "metadata": {
                "cell_id": "970b2078-5c62-44ee-8b33-5700e63aa28c"
            }
        },
        {
            "cell_type": "code",
            "source": "data_folder = \"./data\"\r\ntraining_data_folder = data_folder +   '/training'\r\nvalidation_data_folder = data_folder + '/validation'",
            "metadata": {
                "tags": [],
                "cell_id": "08932ef3-dcbd-41f0-881a-524c227fa754"
            },
            "outputs": [],
            "execution_count": 11
        },
        {
            "cell_type": "code",
            "metadata": {
                "cell_id": "36d19097-9948-4cd7-af98-59c49d1978db"
            },
            "source": "def create_folder(folder):\r\n    if not os.path.isdir(folder):\r\n        print('new directry has been created')\r\n        os.system('mkdir {}'.format(folder))\r\n\r\ncreate_folder(data_folder)",
            "outputs": []
        },
        {
            "cell_type": "markdown",
            "source": "Unzip data",
            "metadata": {
                "cell_id": "61ac64bf-c836-4441-bc76-3a5ad69ce568"
            }
        },
        {
            "cell_type": "code",
            "metadata": {
                "scrolled": true,
                "cell_id": "59197973-866d-47c0-a7ba-3e862e97a03e"
            },
            "source": "!unzip -q horse-or-human.zip -d $training_data_folder\r\n#bug when upzip, training_data_folder added '\\r' behind => os.listdir()\r\n\r\n!unzip -q validation-horse-or-human.zip -d $validation_data_folder",
            "outputs": [
                {
                    "name": "stdout",
                    "text": "replace ./data/validation/horses/horse1-000.png? [y]es, [n]o, [A]ll, [N]one, [r]ename: ",
                    "output_type": "stream"
                }
            ]
        },
        {
            "cell_type": "markdown",
            "source": "#### 3. Read data",
            "metadata": {
                "cell_id": "876834c2-136b-4eea-bb3e-df588c6f0925"
            }
        },
        {
            "cell_type": "code",
            "metadata": {
                "cell_id": "594b28bb-7ae2-4410-a499-df9b3edfd92d"
            },
            "source": "train_generator = ImageDataGenerator(rescale=1/255)\nvalid_generator = ImageDataGenerator(rescale=1/255)",
            "execution_count": 9,
            "outputs": []
        },
        {
            "cell_type": "code",
            "metadata": {
                "cell_id": "30d87359-4c87-48fd-a515-2f01742efb3d"
            },
            "source": "generated_train_data = train_generator.flow_from_directory(\n    training_data_folder,\n    target_size = (150, 150),\n    batch_size = 128,\n    class_mode = 'binary'\n)",
            "execution_count": 12,
            "outputs": [
                {
                    "name": "stdout",
                    "text": "Found 1027 images belonging to 2 classes.\n",
                    "output_type": "stream"
                }
            ]
        },
        {
            "cell_type": "code",
            "metadata": {
                "cell_id": "a1bc84f8-e2d3-4d81-bebe-f703c424051f"
            },
            "source": "generated_valid_data = valid_generator.flow_from_directory(\n    validation_data_folder,\n    target_size = (150, 150),\n    batch_size = 128,\n    class_mode = 'binary'\n)",
            "execution_count": 13,
            "outputs": [
                {
                    "name": "stdout",
                    "text": "Found 256 images belonging to 2 classes.\n",
                    "output_type": "stream"
                }
            ]
        },
        {
            "cell_type": "markdown",
            "source": "#### 4. Build model",
            "metadata": {
                "cell_id": "c33057db-a95f-49ce-a04d-1f0319f830d1"
            }
        },
        {
            "cell_type": "code",
            "metadata": {
                "cell_id": "d73fa8bc-d174-4845-81fa-82e3f24c8062"
            },
            "source": "model = Sequential()",
            "execution_count": 22,
            "outputs": []
        },
        {
            "cell_type": "code",
            "metadata": {
                "cell_id": "fb837934-2787-4dd1-a7aa-852996156292"
            },
            "source": "model.add(Conv2D(16, (3 , 3), activation='relu', input_shape=(150, 150, 3)))\nmodel.add(MaxPooling2D(pool_size=(2,2)))",
            "execution_count": 23,
            "outputs": []
        },
        {
            "cell_type": "code",
            "metadata": {
                "cell_id": "6810bc3d-b738-48bb-a793-912dcb19a48f"
            },
            "source": "model.add(Conv2D(32, (3 , 3), activation='relu'))\nmodel.add(MaxPooling2D(pool_size=(2,2)))\nmodel.add(Conv2D(64, (3 , 3), activation='relu'))\nmodel.add(MaxPooling2D(pool_size=(2,2)))",
            "execution_count": 24,
            "outputs": []
        },
        {
            "cell_type": "code",
            "metadata": {
                "tags": [],
                "cell_id": "c5bd4b5a-d16a-42f3-8bae-a9e5ec7aab9b"
            },
            "source": "model.add(Flatten())",
            "execution_count": 25,
            "outputs": []
        },
        {
            "cell_type": "code",
            "metadata": {
                "tags": [],
                "cell_id": "7083554b-d0b5-4b03-b7dd-e84546cb4468"
            },
            "source": "model.add(Dense(512, activation='relu'))\r\nmodel.add(Dense(1, activation='sigmoid'))",
            "execution_count": 26,
            "outputs": []
        },
        {
            "cell_type": "code",
            "metadata": {
                "tags": [],
                "cell_id": "34e9b8a5-ee69-4b19-818d-a37b45049a16",
                "output_cleared": true
            },
            "source": "model.summary()",
            "execution_count": 27
        },
        {
            "cell_type": "code",
            "metadata": {
                "cell_id": "8cfde6d0-3e27-42ce-ab01-611d0ef7e6e3"
            },
            "source": "model.compile(loss='binary_crossentropy', optimizer=RMSprop(learning_rate=0.001), metrics=['acc'])",
            "execution_count": 28,
            "outputs": []
        },
        {
            "cell_type": "markdown",
            "source": "#### 5. Train model",
            "metadata": {
                "cell_id": "14a4d1fd-ea14-4398-901e-a7ed1820ab82"
            }
        },
        {
            "cell_type": "code",
            "metadata": {
                "tags": [],
                "cell_id": "ea5598f8-a052-42b4-8e28-567bfd5702ae",
                "output_cleared": false
            },
            "source": "history = model.fit_generator(\r\n    generated_train_data,\r\n    steps_per_epoch = 8,\r\n    epochs = 15,\r\n    verbose = 1,\r\n    validation_data = generated_valid_data,\r\n    validation_steps = 8\r\n)",
            "execution_count": 29,
            "outputs": [
                {
                    "name": "stdout",
                    "text": "WARNING:tensorflow:From <ipython-input-29-5b3c3db44437>:7: Model.fit_generator (from tensorflow.python.keras.engine.training) is deprecated and will be removed in a future version.\nInstructions for updating:\nPlease use Model.fit, which supports generators.\nWARNING:tensorflow:sample_weight modes were coerced from\n  ...\n    to  \n  ['...']\nWARNING:tensorflow:sample_weight modes were coerced from\n  ...\n    to  \n  ['...']\nTrain for 8 steps, validate for 8 steps\nEpoch 1/15\nWARNING:tensorflow:Your input ran out of data; interrupting training. Make sure that your dataset or generator can generate at least `steps_per_epoch * epochs` batches (in this case, 8 batches). You may need to use the repeat() function when building your dataset.\n8/8 [==============================] - 7s 877ms/step - loss: 1.6204 - acc: 0.6685 - val_loss: 0.1152 - val_acc: 0.8203\n",
                    "output_type": "stream",
                    "truncated": false
                }
            ]
        },
        {
            "cell_type": "markdown",
            "source": "#### 6. Predict",
            "metadata": {
                "cell_id": "2c5c57f5-9967-400d-afcc-ef130fd18b72"
            }
        },
        {
            "cell_type": "code",
            "metadata": {
                "cell_id": "9572c367-add9-483f-80e0-d1cd0bed4257"
            },
            "source": "",
            "execution_count": null,
            "outputs": []
        }
    ],
    "nbformat": 4,
    "nbformat_minor": 2,
    "metadata": {
        "kernelspec": {
            "display_name": "Python 3",
            "language": "python",
            "name": "python3"
        },
        "language_info": {
            "codemirror_mode": {
                "name": "ipython",
                "version": 3
            },
            "file_extension": ".py",
            "mimetype": "text/x-python",
            "name": "python",
            "nbconvert_exporter": "python",
            "pygments_lexer": "ipython3",
            "version": "3.7.4"
        },
        "deepnote_execution_queue": [],
        "deepnote_notebook_id": "82064db6-f35b-4742-9467-857cf1eebd05"
    }
}